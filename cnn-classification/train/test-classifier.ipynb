{
 "cells": [
  {
   "cell_type": "code",
   "execution_count": null,
   "id": "e6450976",
   "metadata": {},
   "outputs": [
    {
     "name": "stderr",
     "output_type": "stream",
     "text": [
      "2025-10-24 11:16:46.599712: I tensorflow/core/util/port.cc:153] oneDNN custom operations are on. You may see slightly different numerical results due to floating-point round-off errors from different computation orders. To turn them off, set the environment variable `TF_ENABLE_ONEDNN_OPTS=0`.\n",
      "2025-10-24 11:16:46.787615: I tensorflow/core/platform/cpu_feature_guard.cc:210] This TensorFlow binary is optimized to use available CPU instructions in performance-critical operations.\n",
      "To enable the following instructions: AVX2 AVX_VNNI FMA, in other operations, rebuild TensorFlow with the appropriate compiler flags.\n",
      "2025-10-24 11:16:50.807821: I tensorflow/core/util/port.cc:153] oneDNN custom operations are on. You may see slightly different numerical results due to floating-point round-off errors from different computation orders. To turn them off, set the environment variable `TF_ENABLE_ONEDNN_OPTS=0`.\n"
     ]
    },
    {
     "ename": "ModuleNotFoundError",
     "evalue": "No module named 'birdnet_preprocess_interface'",
     "output_type": "error",
     "traceback": [
      "\u001b[0;31m---------------------------------------------------------------------------\u001b[0m",
      "\u001b[0;31mModuleNotFoundError\u001b[0m                       Traceback (most recent call last)",
      "Cell \u001b[0;32mIn[1], line 18\u001b[0m\n\u001b[1;32m     15\u001b[0m \u001b[38;5;66;03m# from preprocess.wav_helper import trim_audio_to_np_float\u001b[39;00m\n\u001b[1;32m     17\u001b[0m \u001b[38;5;28;01mfrom\u001b[39;00m \u001b[38;5;21;01mpreprocess\u001b[39;00m \u001b[38;5;28;01mimport\u001b[39;00m birdnet_preprocess_interface\n\u001b[0;32m---> 18\u001b[0m \u001b[38;5;28;01mfrom\u001b[39;00m \u001b[38;5;21;01mpreprocess\u001b[39;00m\u001b[38;5;21;01m.\u001b[39;00m\u001b[38;5;21;01mpreprocess\u001b[39;00m \u001b[38;5;28;01mimport\u001b[39;00m preprocess, make_spects\n",
      "File \u001b[0;32m~/Git/Strnadi-Analyze/cnn-classification/train/../preprocess/preprocess.py:1\u001b[0m\n\u001b[0;32m----> 1\u001b[0m \u001b[38;5;28;01mimport\u001b[39;00m \u001b[38;5;21;01mbirdnet_preprocess_interface\u001b[39;00m\n\u001b[1;32m      2\u001b[0m \u001b[38;5;28;01mimport\u001b[39;00m \u001b[38;5;21;01mwav_helper\u001b[39;00m\n\u001b[1;32m      3\u001b[0m \u001b[38;5;28;01mimport\u001b[39;00m \u001b[38;5;21;01mnumpy\u001b[39;00m \u001b[38;5;28;01mas\u001b[39;00m \u001b[38;5;21;01mnp\u001b[39;00m\n",
      "\u001b[0;31mModuleNotFoundError\u001b[0m: No module named 'birdnet_preprocess_interface'"
     ]
    }
   ],
   "source": [
    "import os\n",
    "import numpy as np\n",
    "import sklearn\n",
    "# from sklearn.model_selection import train_test_split\n",
    "import tensorflow as tf\n",
    "import keras\n",
    "from keras.utils import Sequence\n",
    "# from keras.utils import to_categorical\n",
    "import sys\n",
    "\n",
    "\n",
    "sys.path.append('..')\n",
    "\n",
    "from preprocess.spectrogram import plot_mel_spect\n",
    "# from preprocess.wav_helper import trim_audio_to_np_float\n",
    "\n",
    "from preprocess.preprocess import preprocess, make_spects\n"
   ]
  },
  {
   "cell_type": "code",
   "execution_count": null,
   "id": "66f62f0b",
   "metadata": {},
   "outputs": [],
   "source": [
    "LABEL_NAMES = ['3S', 'BC', 'BD', 'BE', 'BhBl', 'BlBh', 'XlB', 'XsB']"
   ]
  },
  {
   "cell_type": "code",
   "execution_count": null,
   "id": "5425641f",
   "metadata": {},
   "outputs": [],
   "source": [
    "model = keras.saving.load_model(\"../../.tstdata/models/holy-shit-75-percent.model.keras\")"
   ]
  },
  {
   "cell_type": "code",
   "execution_count": null,
   "id": "9478912e",
   "metadata": {},
   "outputs": [],
   "source": [
    "model.summary()"
   ]
  },
  {
   "cell_type": "code",
   "execution_count": null,
   "id": "76ee8d6e",
   "metadata": {},
   "outputs": [],
   "source": [
    "FP = \".tstdata/F002413.wav\"\n",
    "\n",
    "spectrograms = make_spects(\n",
    "    preprocess(FP)\n",
    ")\n",
    "\n",
    "for spect in spectrograms:\n",
    "    X = np.zeros((1, *spect.shape, 1), dtype=np.float32)\n",
    "    X[0, :, :, 0] = spect\n",
    "\n",
    "\n",
    "    prediction = model.predict(\n",
    "        X\n",
    "    )\n",
    "\n",
    "\n",
    "    pred_percent = dict(zip(LABEL_NAMES, map(lambda x: f\"{round(float(x), 2) * 100}%\", prediction.flatten())))\n",
    "    percent_str = ' | '.join([ f\"{k}:{pred_percent[k]}\" for k in pred_percent.keys() ])\n",
    "\n",
    "    plot_mel_spect(spect, title=percent_str)"
   ]
  }
 ],
 "metadata": {
  "kernelspec": {
   "display_name": "Python 3",
   "language": "python",
   "name": "python3"
  },
  "language_info": {
   "codemirror_mode": {
    "name": "ipython",
    "version": 3
   },
   "file_extension": ".py",
   "mimetype": "text/x-python",
   "name": "python",
   "nbconvert_exporter": "python",
   "pygments_lexer": "ipython3",
   "version": "3.12.3"
  }
 },
 "nbformat": 4,
 "nbformat_minor": 5
}
